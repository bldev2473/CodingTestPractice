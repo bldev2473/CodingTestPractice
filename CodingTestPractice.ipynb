{
  "nbformat": 4,
  "nbformat_minor": 0,
  "metadata": {
    "colab": {
      "name": "CodingTestPractice.ipynb",
      "provenance": [],
      "collapsed_sections": [],
      "authorship_tag": "ABX9TyMUIRiBd6rVjP/umMmkDXTk",
      "include_colab_link": true
    },
    "kernelspec": {
      "name": "python3",
      "display_name": "Python 3"
    }
  },
  "cells": [
    {
      "cell_type": "markdown",
      "metadata": {
        "id": "view-in-github",
        "colab_type": "text"
      },
      "source": [
        "<a href=\"https://colab.research.google.com/github/bldev2473/CodingTestPractice/blob/main/CodingTestPractice.ipynb\" target=\"_parent\"><img src=\"https://colab.research.google.com/assets/colab-badge.svg\" alt=\"Open In Colab\"/></a>"
      ]
    },
    {
      "cell_type": "markdown",
      "metadata": {
        "id": "zubfkk5iZHm5"
      },
      "source": [
        "https://hsin.hr/coci/archive/2014_2015/\n",
        "\n",
        "Contestn #2 - 2"
      ]
    },
    {
      "cell_type": "code",
      "metadata": {
        "id": "_d2cv-zOYyr-"
      },
      "source": [
        "def solution(participant, completion):\n",
        "    answer = ''\n",
        "    m_dict = {}\n",
        "    \n",
        "    for par in participant:\n",
        "        if par in m_dict:\n",
        "            m_dict[par] = m_dict[par] + 1\n",
        "        else:\n",
        "            m_dict[par] = 1\n",
        "    \n",
        "    print(m_dict)\n",
        "\n",
        "    for com in completion:\n",
        "        if com in m_dict:\n",
        "            m_dict[com] = m_dict[com] - 1\n",
        "\n",
        "    print(m_dict)\n",
        "\n",
        "    answer = list(filter(lambda x: x[1] > 0, m_dict.items()))[0][0]\n",
        "    return answer"
      ],
      "execution_count": null,
      "outputs": []
    },
    {
      "cell_type": "code",
      "metadata": {
        "id": "gVygQNvVOvPK",
        "outputId": "16854d4e-709a-47d5-c212-0c0b49ac530d",
        "colab": {
          "base_uri": "https://localhost:8080/",
          "height": 71
        }
      },
      "source": [
        "participant = [\"leo\", \"kiki\", \"eden\"]\n",
        "completion = [\"eden\", \"kiki\"]\n",
        "solution(participant, completion)"
      ],
      "execution_count": null,
      "outputs": [
        {
          "output_type": "stream",
          "text": [
            "{'leo': 1, 'kiki': 1, 'eden': 1}\n",
            "{'leo': 1, 'kiki': 0, 'eden': 0}\n"
          ],
          "name": "stdout"
        },
        {
          "output_type": "execute_result",
          "data": {
            "application/vnd.google.colaboratory.intrinsic+json": {
              "type": "string"
            },
            "text/plain": [
              "'leo'"
            ]
          },
          "metadata": {
            "tags": []
          },
          "execution_count": 43
        }
      ]
    },
    {
      "cell_type": "code",
      "metadata": {
        "id": "msYBfMnSZCIL",
        "outputId": "112ea417-a4cd-4fa1-c388-ee8ab6f8ed71",
        "colab": {
          "base_uri": "https://localhost:8080/",
          "height": 71
        }
      },
      "source": [
        "participant = [\"marina\", \"josipa\", \"nikola\", \"vinko\", \"filipa\"]\n",
        "completion = [\"josipa\", \"filipa\", \"marina\", \"nikola\"]\n",
        "solution(participant, completion)"
      ],
      "execution_count": null,
      "outputs": [
        {
          "output_type": "stream",
          "text": [
            "{'marina': 1, 'josipa': 1, 'nikola': 1, 'vinko': 1, 'filipa': 1}\n",
            "{'marina': 0, 'josipa': 0, 'nikola': 0, 'vinko': 1, 'filipa': 0}\n"
          ],
          "name": "stdout"
        },
        {
          "output_type": "execute_result",
          "data": {
            "application/vnd.google.colaboratory.intrinsic+json": {
              "type": "string"
            },
            "text/plain": [
              "'vinko'"
            ]
          },
          "metadata": {
            "tags": []
          },
          "execution_count": 44
        }
      ]
    },
    {
      "cell_type": "code",
      "metadata": {
        "id": "OIMwnqssO7bl",
        "outputId": "f6acd4e5-04da-46b9-8846-1ae61569fce9",
        "colab": {
          "base_uri": "https://localhost:8080/",
          "height": 71
        }
      },
      "source": [
        "participant = [\"kiki\", \"eden\", \"eden\", \"kiki\"]\n",
        "completion = [\"eden\", \"kiki\", \"kiki\"]\n",
        "solution(participant, completion)"
      ],
      "execution_count": null,
      "outputs": [
        {
          "output_type": "stream",
          "text": [
            "{'kiki': 2, 'eden': 2}\n",
            "{'kiki': 0, 'eden': 1}\n"
          ],
          "name": "stdout"
        },
        {
          "output_type": "execute_result",
          "data": {
            "application/vnd.google.colaboratory.intrinsic+json": {
              "type": "string"
            },
            "text/plain": [
              "'eden'"
            ]
          },
          "metadata": {
            "tags": []
          },
          "execution_count": 45
        }
      ]
    }
  ]
}