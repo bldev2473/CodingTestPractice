{
  "nbformat": 4,
  "nbformat_minor": 0,
  "metadata": {
    "colab": {
      "name": "CodingTestPractice_HashTable.ipynb",
      "provenance": [],
      "collapsed_sections": [],
      "authorship_tag": "ABX9TyPxF79xh89mmBuY75y6/r89",
      "include_colab_link": true
    },
    "kernelspec": {
      "name": "python3",
      "display_name": "Python 3"
    }
  },
  "cells": [
    {
      "cell_type": "markdown",
      "metadata": {
        "id": "view-in-github",
        "colab_type": "text"
      },
      "source": [
        "<a href=\"https://colab.research.google.com/github/bldev2473/CodingTestPractice/blob/main/CodingTestPractice_HashTable.ipynb\" target=\"_parent\"><img src=\"https://colab.research.google.com/assets/colab-badge.svg\" alt=\"Open In Colab\"/></a>"
      ]
    },
    {
      "cell_type": "markdown",
      "metadata": {
        "id": "zubfkk5iZHm5"
      },
      "source": [
        "CROATIAN OPEN COMPETITION IN INFORMATICS 2014/2015\n",
        "\n",
        "Contest #2 - 2"
      ]
    },
    {
      "cell_type": "code",
      "metadata": {
        "id": "_d2cv-zOYyr-"
      },
      "source": [
        "def solution(participant, completion):\n",
        "    answer = ''\n",
        "    m_dict = {}\n",
        "    \n",
        "    for par in participant:\n",
        "        if par in m_dict:\n",
        "            m_dict[par] = m_dict[par] + 1\n",
        "        else:\n",
        "            m_dict[par] = 1\n",
        "    \n",
        "    print(m_dict)\n",
        "\n",
        "    for com in completion:\n",
        "        if com in m_dict:\n",
        "            m_dict[com] = m_dict[com] - 1\n",
        "\n",
        "    print(m_dict)\n",
        "\n",
        "    answer = list(filter(lambda x: x[1] > 0, m_dict.items()))[0][0]\n",
        "    return answer"
      ],
      "execution_count": null,
      "outputs": []
    },
    {
      "cell_type": "code",
      "metadata": {
        "id": "gVygQNvVOvPK",
        "colab": {
          "base_uri": "https://localhost:8080/",
          "height": 71
        },
        "outputId": "16854d4e-709a-47d5-c212-0c0b49ac530d"
      },
      "source": [
        "participant = [\"leo\", \"kiki\", \"eden\"]\n",
        "completion = [\"eden\", \"kiki\"]\n",
        "solution(participant, completion)"
      ],
      "execution_count": null,
      "outputs": [
        {
          "output_type": "stream",
          "text": [
            "{'leo': 1, 'kiki': 1, 'eden': 1}\n",
            "{'leo': 1, 'kiki': 0, 'eden': 0}\n"
          ],
          "name": "stdout"
        },
        {
          "output_type": "execute_result",
          "data": {
            "application/vnd.google.colaboratory.intrinsic+json": {
              "type": "string"
            },
            "text/plain": [
              "'leo'"
            ]
          },
          "metadata": {
            "tags": []
          },
          "execution_count": 43
        }
      ]
    },
    {
      "cell_type": "code",
      "metadata": {
        "id": "msYBfMnSZCIL",
        "colab": {
          "base_uri": "https://localhost:8080/",
          "height": 71
        },
        "outputId": "112ea417-a4cd-4fa1-c388-ee8ab6f8ed71"
      },
      "source": [
        "participant = [\"marina\", \"josipa\", \"nikola\", \"vinko\", \"filipa\"]\n",
        "completion = [\"josipa\", \"filipa\", \"marina\", \"nikola\"]\n",
        "solution(participant, completion)"
      ],
      "execution_count": null,
      "outputs": [
        {
          "output_type": "stream",
          "text": [
            "{'marina': 1, 'josipa': 1, 'nikola': 1, 'vinko': 1, 'filipa': 1}\n",
            "{'marina': 0, 'josipa': 0, 'nikola': 0, 'vinko': 1, 'filipa': 0}\n"
          ],
          "name": "stdout"
        },
        {
          "output_type": "execute_result",
          "data": {
            "application/vnd.google.colaboratory.intrinsic+json": {
              "type": "string"
            },
            "text/plain": [
              "'vinko'"
            ]
          },
          "metadata": {
            "tags": []
          },
          "execution_count": 44
        }
      ]
    },
    {
      "cell_type": "code",
      "metadata": {
        "id": "OIMwnqssO7bl",
        "colab": {
          "base_uri": "https://localhost:8080/",
          "height": 71
        },
        "outputId": "ce5cbbd2-dbc1-4f86-ec9b-e900c74c1036"
      },
      "source": [
        "participant = [\"kiki\", \"eden\", \"eden\", \"kiki\"]\n",
        "completion = [\"eden\", \"kiki\", \"kiki\"]\n",
        "solution(participant, completion)"
      ],
      "execution_count": null,
      "outputs": [
        {
          "output_type": "stream",
          "text": [
            "{'kiki': 2, 'eden': 2}\n",
            "{'kiki': 0, 'eden': 1}\n"
          ],
          "name": "stdout"
        },
        {
          "output_type": "execute_result",
          "data": {
            "application/vnd.google.colaboratory.intrinsic+json": {
              "type": "string"
            },
            "text/plain": [
              "'eden'"
            ]
          },
          "metadata": {
            "tags": []
          },
          "execution_count": 46
        }
      ]
    },
    {
      "cell_type": "code",
      "metadata": {
        "id": "Yh95zPYKcWm8",
        "colab": {
          "base_uri": "https://localhost:8080/"
        },
        "outputId": "bc1f0a8f-703a-4dcc-d734-3bf3b0ab19ea"
      },
      "source": [
        "m_dict = {'x':10, 'y':30, 'z': 20}\n",
        "print(m_dict.items())\n",
        "print(type(m_dict.items()))\n",
        "print(list(m_dict.items()))"
      ],
      "execution_count": null,
      "outputs": [
        {
          "output_type": "stream",
          "text": [
            "dict_items([('x', 10), ('y', 30), ('z', 20)])\n",
            "<class 'dict_items'>\n",
            "[('x', 10), ('y', 30), ('z', 20)]\n"
          ],
          "name": "stdout"
        }
      ]
    },
    {
      "cell_type": "markdown",
      "metadata": {
        "id": "IbHgvSBUfn9J"
      },
      "source": [
        "Nordic Collegiate Programming Contest"
      ]
    },
    {
      "cell_type": "code",
      "metadata": {
        "id": "zUyAVm-te5JB"
      },
      "source": [
        "def solution(phone_book):\n",
        "    answer = True\n",
        "    phone_dict = {}\n",
        "    for phone in phone_book:\n",
        "        phone_dict[phone] = len(phone)\n",
        "    \n",
        "    for phone in phone_book:\n",
        "        temp_list = list(map(lambda x: x[:phone_dict[phone]], phone_book))\n",
        "        if temp_list.count(phone) > 1:\n",
        "            answer = False\n",
        "    return answer"
      ],
      "execution_count": null,
      "outputs": []
    },
    {
      "cell_type": "markdown",
      "metadata": {
        "id": "S9rtMVFPyE0q"
      },
      "source": [
        "```\n",
        "정확성: 84.6\n",
        "효율성: 0.0\n",
        "합계: 84.6 / 100.0\n",
        "```"
      ]
    },
    {
      "cell_type": "code",
      "metadata": {
        "id": "lFQ8W3dkwGvP"
      },
      "source": [
        "def solution(phone_book):\n",
        "    answer = True\n",
        "    phone_dict = {}\n",
        "    set1 = set(phone_book)\n",
        "\n",
        "    for i in phone_book:\n",
        "        phone_dict[i] = len(i)\n",
        "        \n",
        "    dict_min = min(phone_dict.values())\n",
        "    dict_max = max(phone_dict.values())\n",
        "\n",
        "    for i in range(dict_min, dict_max):\n",
        "        temp_phone_book = [j[0:i] for j in phone_book]\n",
        "        set2 = set(temp_phone_book)\n",
        "        if len(set1) != len(set2):\n",
        "            answer = False\n",
        "    return answer"
      ],
      "execution_count": null,
      "outputs": []
    },
    {
      "cell_type": "markdown",
      "metadata": {
        "id": "pBfYLd-rxV96"
      },
      "source": [
        "```\n",
        "정확성: 76.9\n",
        "효율성: 15.4\n",
        "합계: 92.3 / 100.0\n",
        "```"
      ]
    },
    {
      "cell_type": "code",
      "metadata": {
        "id": "bnaoFToBwlSZ"
      },
      "source": [
        "def solution(phone_book):\n",
        "    answer = True\n",
        "    phone_dict = {}\n",
        "    set1 = set(phone_book)\n",
        "\n",
        "    for i in phone_book:\n",
        "        phone_dict[i] = len(i)\n",
        "    \n",
        "    print(phone_dict)\n",
        "    \n",
        "    len_list = list(phone_dict.values())\n",
        "    \n",
        "    for i in len_list:\n",
        "        temp_phone_book = [j[0:i] for j in phone_book]\n",
        "        set2 = set(temp_phone_book)\n",
        "        if len(set1) != len(set2):\n",
        "            answer = False\n",
        "    return answer"
      ],
      "execution_count": null,
      "outputs": []
    },
    {
      "cell_type": "markdown",
      "metadata": {
        "id": "K37otEl3zFrD"
      },
      "source": [
        "```\n",
        "정확성: 76.9\n",
        "효율성: 0.0\n",
        "합계: 76.9 / 100.0\n",
        "```"
      ]
    },
    {
      "cell_type": "code",
      "metadata": {
        "id": "7fOb6PaZr-xq"
      },
      "source": [
        "from functools import reduce\n",
        "from itertools import combinations\n",
        "\n",
        "def solution(clothes):\n",
        "    answer = 0\n",
        "    clothes_dict = {}\n",
        "    \n",
        "    for cloth in clothes:\n",
        "        clothes_dict[cloth[0]] = cloth[1]\n",
        "    \n",
        "    value_list = list(clothes_dict.values())\n",
        "    value_set = set(value_list)\n",
        "    # print(list(value_set))\n",
        "    value_count_list = []\n",
        "    \n",
        "    for value in list(value_set):\n",
        "        value_count_list.append(value_list.count(value))\n",
        "\n",
        "    for i in range(1, len(list(value_set)) + 1):\n",
        "        # print([i for i in combinations(list(value_set), i)])\n",
        "        temp = [tuple(map(lambda x: value_list.count(x), j)) for j in combinations(list(value_set), i)]\n",
        "        # print(temp)\n",
        "        temp = list(map(lambda x: reduce(lambda x, y: x * y, x), temp))\n",
        "        # print(temp)\n",
        "        answer += sum(temp)\n",
        "    return answer"
      ],
      "execution_count": null,
      "outputs": []
    },
    {
      "cell_type": "markdown",
      "metadata": {
        "id": "VmEMj5iPskJh"
      },
      "source": [
        "```\n",
        "정확성: 96.4\n",
        "합계: 96.4 / **100.0**\n",
        "```"
      ]
    },
    {
      "cell_type": "code",
      "metadata": {
        "id": "L4W0Fyj1ssvc"
      },
      "source": [
        ""
      ],
      "execution_count": null,
      "outputs": []
    }
  ]
}